{
 "cells": [
  {
   "cell_type": "code",
   "execution_count": 26,
   "metadata": {},
   "outputs": [],
   "source": [
    "import sqlite3"
   ]
  },
  {
   "cell_type": "code",
   "execution_count": 31,
   "metadata": {},
   "outputs": [],
   "source": [
    "conn = sqlite3.connect(\"data.db\")\n",
    "cursor = conn.cursor()"
   ]
  },
  {
   "cell_type": "code",
   "execution_count": null,
   "metadata": {},
   "outputs": [
    {
     "data": {
      "text/plain": [
       "<sqlite3.Cursor at 0x2043acc9a40>"
      ]
     },
     "execution_count": 32,
     "metadata": {},
     "output_type": "execute_result"
    }
   ],
   "source": [
    "cursor.execute(\"\"\"\n",
    "CREATE TABLE Tone (\n",
    "    name Nvarchar(255) PRIMARY KEY NOT NULL,\n",
    "    description TEXT NOT NULL,\n",
    "    img TEXT NOT NULL\n",
    ")\n",
    "\"\"\")\n",
    "\n",
    "# 데이터 삽입\n",
    "data = [\n",
    "    (\"가을 웜톤\", \"따뜻한 색조의 갈색, 카키, 올리브 색상이 어울리며, 살구색이나 진한 오렌지 색상이 잘 맞습니다.\", \"img/fall_warmtone.png\"),\n",
    "    (\"봄 웜톤\", \"부드럽고 밝은 색조의 파스텔 계열이 잘 어울리며, 따뜻한 피치 핑크와 크림 베이지 색상이 적합합니다.\", \"img/spring_warmtone.png\"),\n",
    "    (\"여름 쿨톤\", \"시원한 느낌의 밝고 차분한 색조가 어울리며, 라벤더, 민트 블루, 베이비 핑크 계열이 잘 맞습니다.\", \"img/summer_cooltone.png\"),\n",
    "    (\"겨울 쿨톤\", \"강렬하고 선명한 색조의 블랙, 화이트, 푸른 계열의 색상이 잘 어울리며, 차가운 레드 색상도 잘 맞습니다.\", \"img/winter_cooltone.png\")\n",
    "]\n",
    "\n",
    "cursor.executemany(\"INSERT INTO Tone (name, description, img) VALUES (?, ?, ?)\", data)"
   ]
  },
  {
   "cell_type": "code",
   "execution_count": 33,
   "metadata": {},
   "outputs": [],
   "source": [
    "conn.commit()\n",
    "conn.close()"
   ]
  }
 ],
 "metadata": {
  "kernelspec": {
   "display_name": "Python 3",
   "language": "python",
   "name": "python3"
  },
  "language_info": {
   "codemirror_mode": {
    "name": "ipython",
    "version": 3
   },
   "file_extension": ".py",
   "mimetype": "text/x-python",
   "name": "python",
   "nbconvert_exporter": "python",
   "pygments_lexer": "ipython3",
   "version": "3.11.9"
  }
 },
 "nbformat": 4,
 "nbformat_minor": 2
}
